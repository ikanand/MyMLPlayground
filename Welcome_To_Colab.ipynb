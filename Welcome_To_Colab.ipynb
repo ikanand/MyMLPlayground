{
  "cells": [
    {
      "cell_type": "markdown",
      "source": [
        "#Linear Regression"
      ],
      "metadata": {
        "id": "kFlt_LaolFC7"
      }
    },
    {
      "cell_type": "code",
      "source": [
        "import numpy as np"
      ],
      "metadata": {
        "id": "NBTOuuedjK80"
      },
      "execution_count": 1,
      "outputs": []
    },
    {
      "cell_type": "code",
      "source": [
        "X=np.random.randint(10,size=(5,3))"
      ],
      "metadata": {
        "id": "9FAWirerjOyZ"
      },
      "execution_count": 2,
      "outputs": []
    },
    {
      "cell_type": "code",
      "source": [
        "y=np.sum(X*[1,2,3],axis=1)"
      ],
      "metadata": {
        "id": "wjHRfcKojViI"
      },
      "execution_count": 4,
      "outputs": []
    },
    {
      "cell_type": "code",
      "source": [
        "w=np.random.rand(3)\n",
        "w"
      ],
      "metadata": {
        "id": "PTn7tfcqjald",
        "outputId": "add51429-e881-48cf-b65c-b9f51a5b72ba",
        "colab": {
          "base_uri": "https://localhost:8080/",
          "height": 0
        }
      },
      "execution_count": 6,
      "outputs": [
        {
          "output_type": "execute_result",
          "data": {
            "text/plain": [
              "array([0.88994125, 0.58270728, 0.28851842])"
            ]
          },
          "metadata": {},
          "execution_count": 6
        }
      ]
    },
    {
      "cell_type": "code",
      "source": [
        "def gradient_descent(X,y,w,alpha=0.01,n_iter=1000):\n",
        "  for i in range(n_iter):\n",
        "    w=w-alpha*np.dot(X.T,(np.dot(X,w)-y))/len(y)\n",
        "  return w"
      ],
      "metadata": {
        "id": "eYLeFM0jjr5y"
      },
      "execution_count": 11,
      "outputs": []
    },
    {
      "cell_type": "markdown",
      "source": [],
      "metadata": {
        "id": "bfpXjyL-lD6-"
      }
    },
    {
      "cell_type": "code",
      "source": [
        "print(gradient_descent(X,y,w))"
      ],
      "metadata": {
        "id": "_wPEqcZHkQb4",
        "outputId": "93bb9084-ad8a-4a1b-cd3f-e6d868631c86",
        "colab": {
          "base_uri": "https://localhost:8080/",
          "height": 0
        }
      },
      "execution_count": 12,
      "outputs": [
        {
          "output_type": "stream",
          "name": "stdout",
          "text": [
            "[1. 2. 3.]\n"
          ]
        }
      ]
    },
    {
      "cell_type": "code",
      "source": [],
      "metadata": {
        "id": "AN2KWWNekXx-"
      },
      "execution_count": null,
      "outputs": []
    }
  ],
  "metadata": {
    "colab": {
      "name": "Welcome To Colab",
      "provenance": []
    },
    "kernelspec": {
      "display_name": "Python 3",
      "name": "python3"
    }
  },
  "nbformat": 4,
  "nbformat_minor": 0
}